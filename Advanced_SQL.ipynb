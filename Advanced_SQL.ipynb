{
  "nbformat": 4,
  "nbformat_minor": 0,
  "metadata": {
    "colab": {
      "name": "FTMLE_Advanced SQL_Exercise_Solution.ipynb",
      "provenance": [],
      "collapsed_sections": [],
      "include_colab_link": true
    },
    "kernelspec": {
      "display_name": "Python 3",
      "language": "python",
      "name": "python3"
    },
    "language_info": {
      "codemirror_mode": {
        "name": "ipython",
        "version": 3
      },
      "file_extension": ".py",
      "mimetype": "text/x-python",
      "name": "python",
      "nbconvert_exporter": "python",
      "pygments_lexer": "ipython3",
      "version": "3.6.5"
    }
  },
  "cells": [
    {
      "cell_type": "markdown",
      "metadata": {
        "id": "view-in-github",
        "colab_type": "text"
      },
      "source": [
        "<a href=\"https://colab.research.google.com/github/Trantracy/Analyse-the-relation-between-customers-and-Supplier/blob/master/Advanced_SQL.ipynb\" target=\"_parent\"><img src=\"https://colab.research.google.com/assets/colab-badge.svg\" alt=\"Open In Colab\"/></a>"
      ]
    },
    {
      "cell_type": "markdown",
      "metadata": {
        "colab_type": "text",
        "id": "ljiunBcKlJSQ"
      },
      "source": [
        "![](https://i.imgur.com/0AUxkXt.png)"
      ]
    },
    {
      "cell_type": "markdown",
      "metadata": {
        "colab_type": "text",
        "id": "PgjLTSR7lEqz"
      },
      "source": [
        "# MLE - Advanced SQL"
      ]
    },
    {
      "cell_type": "markdown",
      "metadata": {
        "colab_type": "text",
        "id": "UFhsNsY2J1jz"
      },
      "source": [
        "### Connect to the database\n",
        "\n",
        "![](https://raw.githubusercontent.com/jpwhite3/northwind-SQLite3/master/Northwind_ERD.png)"
      ]
    },
    {
      "cell_type": "markdown",
      "metadata": {
        "colab_type": "text",
        "id": "2tI-PoQZMKax"
      },
      "source": [
        "**Run those cells below**"
      ]
    },
    {
      "cell_type": "code",
      "metadata": {
        "id": "PpsJWk4R7RN7",
        "colab_type": "code",
        "outputId": "5a65279d-e9dd-4bd9-ebd3-8d22214c3039",
        "colab": {
          "base_uri": "https://localhost:8080/",
          "height": 128
        }
      },
      "source": [
        "from google.colab import drive\n",
        "drive.mount('/content/gdrive/')"
      ],
      "execution_count": 0,
      "outputs": [
        {
          "output_type": "stream",
          "text": [
            "Go to this URL in a browser: https://accounts.google.com/o/oauth2/auth?client_id=947318989803-6bn6qk8qdgf4n4g3pfee6491hc0brc4i.apps.googleusercontent.com&redirect_uri=urn%3aietf%3awg%3aoauth%3a2.0%3aoob&response_type=code&scope=email%20https%3a%2f%2fwww.googleapis.com%2fauth%2fdocs.test%20https%3a%2f%2fwww.googleapis.com%2fauth%2fdrive%20https%3a%2f%2fwww.googleapis.com%2fauth%2fdrive.photos.readonly%20https%3a%2f%2fwww.googleapis.com%2fauth%2fpeopleapi.readonly\n",
            "\n",
            "Enter your authorization code:\n",
            "··········\n",
            "Mounted at /content/gdrive/\n"
          ],
          "name": "stdout"
        }
      ]
    },
    {
      "cell_type": "code",
      "metadata": {
        "colab_type": "code",
        "id": "NUcv2WLJKEkY",
        "colab": {}
      },
      "source": [
        "import sqlite3\n",
        "import pandas as pd\n",
        "\n",
        "# Replace the path below with yours\n",
        "conn = sqlite3.connect('gdrive/My Drive/Student Files/FTMLE - Tonga/Data/Northwind_small.sqlite')"
      ],
      "execution_count": 0,
      "outputs": []
    },
    {
      "cell_type": "code",
      "metadata": {
        "id": "lAf0lDLtsDp7",
        "colab_type": "code",
        "outputId": "daa8a30e-8561-40dc-be8e-e76d95b5800c",
        "colab": {
          "base_uri": "https://localhost:8080/",
          "height": 438
        }
      },
      "source": [
        "# Show all tables in the database\n",
        "pd.read_sql_query(\"SELECT name FROM sqlite_master WHERE type = 'table'\", conn)"
      ],
      "execution_count": 0,
      "outputs": [
        {
          "output_type": "execute_result",
          "data": {
            "text/html": [
              "<div>\n",
              "<style scoped>\n",
              "    .dataframe tbody tr th:only-of-type {\n",
              "        vertical-align: middle;\n",
              "    }\n",
              "\n",
              "    .dataframe tbody tr th {\n",
              "        vertical-align: top;\n",
              "    }\n",
              "\n",
              "    .dataframe thead th {\n",
              "        text-align: right;\n",
              "    }\n",
              "</style>\n",
              "<table border=\"1\" class=\"dataframe\">\n",
              "  <thead>\n",
              "    <tr style=\"text-align: right;\">\n",
              "      <th></th>\n",
              "      <th>name</th>\n",
              "    </tr>\n",
              "  </thead>\n",
              "  <tbody>\n",
              "    <tr>\n",
              "      <th>0</th>\n",
              "      <td>Employee</td>\n",
              "    </tr>\n",
              "    <tr>\n",
              "      <th>1</th>\n",
              "      <td>Category</td>\n",
              "    </tr>\n",
              "    <tr>\n",
              "      <th>2</th>\n",
              "      <td>Customer</td>\n",
              "    </tr>\n",
              "    <tr>\n",
              "      <th>3</th>\n",
              "      <td>Shipper</td>\n",
              "    </tr>\n",
              "    <tr>\n",
              "      <th>4</th>\n",
              "      <td>Supplier</td>\n",
              "    </tr>\n",
              "    <tr>\n",
              "      <th>5</th>\n",
              "      <td>Order</td>\n",
              "    </tr>\n",
              "    <tr>\n",
              "      <th>6</th>\n",
              "      <td>Product</td>\n",
              "    </tr>\n",
              "    <tr>\n",
              "      <th>7</th>\n",
              "      <td>OrderDetail</td>\n",
              "    </tr>\n",
              "    <tr>\n",
              "      <th>8</th>\n",
              "      <td>CustomerCustomerDemo</td>\n",
              "    </tr>\n",
              "    <tr>\n",
              "      <th>9</th>\n",
              "      <td>CustomerDemographic</td>\n",
              "    </tr>\n",
              "    <tr>\n",
              "      <th>10</th>\n",
              "      <td>Region</td>\n",
              "    </tr>\n",
              "    <tr>\n",
              "      <th>11</th>\n",
              "      <td>Territory</td>\n",
              "    </tr>\n",
              "    <tr>\n",
              "      <th>12</th>\n",
              "      <td>EmployeeTerritory</td>\n",
              "    </tr>\n",
              "  </tbody>\n",
              "</table>\n",
              "</div>"
            ],
            "text/plain": [
              "                    name\n",
              "0               Employee\n",
              "1               Category\n",
              "2               Customer\n",
              "3                Shipper\n",
              "4               Supplier\n",
              "5                  Order\n",
              "6                Product\n",
              "7            OrderDetail\n",
              "8   CustomerCustomerDemo\n",
              "9    CustomerDemographic\n",
              "10                Region\n",
              "11             Territory\n",
              "12     EmployeeTerritory"
            ]
          },
          "metadata": {
            "tags": []
          },
          "execution_count": 3
        }
      ]
    },
    {
      "cell_type": "markdown",
      "metadata": {
        "id": "INZEIoRwWFos",
        "colab_type": "text"
      },
      "source": [
        "## Exercises"
      ]
    },
    {
      "cell_type": "markdown",
      "metadata": {
        "id": "nD_kFsdZSmtu",
        "colab_type": "text"
      },
      "source": [
        "### 1. Query all employees in the same department as Janet\n",
        "Note: Your query cannot contain \"Sales Representative\"\n",
        "\n",
        "__Expected Output:__\n",
        "![Expected Answer](https://i.imgur.com/QbMyadp.png)"
      ]
    },
    {
      "cell_type": "code",
      "metadata": {
        "id": "6peoNg8-yNIF",
        "colab_type": "code",
        "colab": {}
      },
      "source": [
        "# Query all employees in the same department as Janet\n",
        "# Note: Your query cannot contain \"Sales Representative\"\n",
        "\n",
        "query = '''\n",
        "          SELECT * \n",
        "          FROM Employee\n",
        "          WHERE Title = (\n",
        "            SELECT \n",
        "              Title\n",
        "            FROM Employee\n",
        "            WHERE FirstName = \"Janet\");\n",
        "'''\n",
        "\n",
        "pd.read_sql_query(query, conn)"
      ],
      "execution_count": 0,
      "outputs": []
    },
    {
      "cell_type": "markdown",
      "metadata": {
        "id": "lBleHroD9dnK",
        "colab_type": "text"
      },
      "source": [
        "### 2a. Without using DISTINCT, query countries that have customers but no suppliers\n",
        "__Expected Output:__\n",
        "\n",
        "![Expected Answer](https://imgur.com/sdUKDYz.png)\n"
      ]
    },
    {
      "cell_type": "code",
      "metadata": {
        "id": "Veq79syuZ0sg",
        "colab_type": "code",
        "colab": {}
      },
      "source": [
        "# Without using DISTINCT, query countries that have customers but no suppliers\n",
        "query = '''\n",
        "          SELECT Country\n",
        "          FROM Customer\n",
        "          EXCEPT\n",
        "          SELECT Country\n",
        "          FROM Supplier\n",
        "'''\n",
        "\n",
        "pd.read_sql_query(query, conn)"
      ],
      "execution_count": 0,
      "outputs": []
    },
    {
      "cell_type": "markdown",
      "metadata": {
        "id": "ZXAWOni_91zF",
        "colab_type": "text"
      },
      "source": [
        "### 2b. Similar to Question 2a but now use DISTINCT"
      ]
    },
    {
      "cell_type": "code",
      "metadata": {
        "id": "Z87hZxhq-AbW",
        "colab_type": "code",
        "outputId": "69bbf97e-b099-422b-e9c6-8c326b39a6e2",
        "colab": {
          "base_uri": "https://localhost:8080/",
          "height": 325
        }
      },
      "source": [
        "# Without using DISTINCT, query countries that have customers but no suppliers\n",
        "query = '''\n",
        "          SELECT DISTINCT Country\n",
        "          FROM Customer\n",
        "          WHERE Country NOT IN (\n",
        "            SELECT Country\n",
        "            FROM Supplier\n",
        "          )\n",
        "'''\n",
        "\n",
        "pd.read_sql_query(query, conn)"
      ],
      "execution_count": 0,
      "outputs": [
        {
          "output_type": "execute_result",
          "data": {
            "text/html": [
              "<div>\n",
              "<style scoped>\n",
              "    .dataframe tbody tr th:only-of-type {\n",
              "        vertical-align: middle;\n",
              "    }\n",
              "\n",
              "    .dataframe tbody tr th {\n",
              "        vertical-align: top;\n",
              "    }\n",
              "\n",
              "    .dataframe thead th {\n",
              "        text-align: right;\n",
              "    }\n",
              "</style>\n",
              "<table border=\"1\" class=\"dataframe\">\n",
              "  <thead>\n",
              "    <tr style=\"text-align: right;\">\n",
              "      <th></th>\n",
              "      <th>Country</th>\n",
              "    </tr>\n",
              "  </thead>\n",
              "  <tbody>\n",
              "    <tr>\n",
              "      <th>0</th>\n",
              "      <td>Mexico</td>\n",
              "    </tr>\n",
              "    <tr>\n",
              "      <th>1</th>\n",
              "      <td>Argentina</td>\n",
              "    </tr>\n",
              "    <tr>\n",
              "      <th>2</th>\n",
              "      <td>Switzerland</td>\n",
              "    </tr>\n",
              "    <tr>\n",
              "      <th>3</th>\n",
              "      <td>Austria</td>\n",
              "    </tr>\n",
              "    <tr>\n",
              "      <th>4</th>\n",
              "      <td>Portugal</td>\n",
              "    </tr>\n",
              "    <tr>\n",
              "      <th>5</th>\n",
              "      <td>Venezuela</td>\n",
              "    </tr>\n",
              "    <tr>\n",
              "      <th>6</th>\n",
              "      <td>Ireland</td>\n",
              "    </tr>\n",
              "    <tr>\n",
              "      <th>7</th>\n",
              "      <td>Belgium</td>\n",
              "    </tr>\n",
              "    <tr>\n",
              "      <th>8</th>\n",
              "      <td>Poland</td>\n",
              "    </tr>\n",
              "  </tbody>\n",
              "</table>\n",
              "</div>"
            ],
            "text/plain": [
              "       Country\n",
              "0       Mexico\n",
              "1    Argentina\n",
              "2  Switzerland\n",
              "3      Austria\n",
              "4     Portugal\n",
              "5    Venezuela\n",
              "6      Ireland\n",
              "7      Belgium\n",
              "8       Poland"
            ]
          },
          "metadata": {
            "tags": []
          },
          "execution_count": 66
        }
      ]
    },
    {
      "cell_type": "markdown",
      "metadata": {
        "id": "7jQE-CvCFlNQ",
        "colab_type": "text"
      },
      "source": [
        "### 3. Query top 5 most potential customers in North America and top 5 most potential customers in South America\n",
        "Note: Potential customers are evaluated based on the total revenue earned.\n",
        "\n",
        "__Expected Output__\n",
        "\n",
        "![Expected Answer](https://i.imgur.com/ctNWmXu.png)"
      ]
    },
    {
      "cell_type": "code",
      "metadata": {
        "id": "wVlz1afTufNf",
        "colab_type": "code",
        "colab": {}
      },
      "source": [
        "# Query top 5 most potential customers in North America and top 5 most potential customers in South America\n",
        "query = '''\n",
        "            SELECT * \n",
        "            FROM (\n",
        "              SELECT \n",
        "                CompanyName, \n",
        "                Region, \n",
        "                SUM((UnitPrice - Discount) * Quantity) AS Total\n",
        "              FROM \"Customer\" AS c\n",
        "                JOIN \"Order\" AS o \n",
        "                  ON c.Id = o.CustomerId\n",
        "                JOIN \"OrderDetail\" AS d \n",
        "                  ON o.Id = d.OrderId\n",
        "              WHERE Region = \"North America\"\n",
        "              GROUP BY c.Id\n",
        "              ORDER BY Total DESC\n",
        "              LIMIT 10\n",
        "            ) \n",
        "            UNION\n",
        "            SELECT *\n",
        "            FROM (\n",
        "              SELECT \n",
        "                CompanyName, \n",
        "                Region, \n",
        "                SUM((UnitPrice - Discount) * Quantity) AS Total\n",
        "              FROM \"Customer\" AS c\n",
        "                JOIN \"Order\" AS o \n",
        "                  ON c.Id = o.CustomerId\n",
        "                JOIN \"OrderDetail\" AS d \n",
        "                  ON o.Id = d.OrderId\n",
        "              WHERE Region = \"South America\"\n",
        "              GROUP BY c.Id\n",
        "              ORDER BY Total DESC\n",
        "              LIMIT 10\n",
        "              ) ORDER BY Region, Total DESC;\n",
        "'''\n",
        "\n",
        "pd.read_sql_query(query, conn)"
      ],
      "execution_count": 0,
      "outputs": []
    },
    {
      "cell_type": "code",
      "metadata": {
        "id": "9vRbfCAC623l",
        "colab_type": "code",
        "outputId": "cec1885e-c9f7-4992-c5c4-a3efa9361bf9",
        "colab": {
          "base_uri": "https://localhost:8080/",
          "height": 348
        }
      },
      "source": [
        "# Query top 5 most potential customers in North America and top 5 most potential customers in South America\n",
        "query = '''\n",
        "            WITH orders AS (SELECT * FROM 'order')\n",
        "\n",
        "            SELECT* FROM\n",
        "            (SELECT \n",
        "              CompanyName, \n",
        "              Region, \n",
        "              SUM(UnitPrice*Quantity) AS Total \n",
        "            FROM orders \n",
        "              JOIN customer\n",
        "                ON orders.customerid = customer.id \n",
        "              JOIN orderdetail \n",
        "                ON orders.id = orderdetail.orderid \n",
        "            WHERE Region LIKE 'north %' \n",
        "            GROUP BY CompanyName \n",
        "            ORDER BY Total DESC \n",
        "            LIMIT 10)\n",
        "         \n",
        "            UNION\n",
        "            SELECT * FROM(\n",
        "            SELECT \n",
        "              CompanyName, \n",
        "              Region, \n",
        "              SUM(UnitPrice * Quantity) AS Total \n",
        "            FROM orders \n",
        "              JOIN customer \n",
        "                ON orders.customerid = customer.id \n",
        "              JOIN orderdetail \n",
        "                ON orders.id = orderdetail.orderid \n",
        "            WHERE Region LIKE 'north %' \n",
        "            GROUP BY CompanyName\n",
        "            ORDER BY Total DESC \n",
        "            LIMIT 10)\n",
        "'''\n",
        "\n",
        "pd.read_sql_query(query, conn)"
      ],
      "execution_count": 0,
      "outputs": [
        {
          "output_type": "execute_result",
          "data": {
            "text/html": [
              "<div>\n",
              "<style scoped>\n",
              "    .dataframe tbody tr th:only-of-type {\n",
              "        vertical-align: middle;\n",
              "    }\n",
              "\n",
              "    .dataframe tbody tr th {\n",
              "        vertical-align: top;\n",
              "    }\n",
              "\n",
              "    .dataframe thead th {\n",
              "        text-align: right;\n",
              "    }\n",
              "</style>\n",
              "<table border=\"1\" class=\"dataframe\">\n",
              "  <thead>\n",
              "    <tr style=\"text-align: right;\">\n",
              "      <th></th>\n",
              "      <th>CompanyName</th>\n",
              "      <th>Region</th>\n",
              "      <th>Total</th>\n",
              "    </tr>\n",
              "  </thead>\n",
              "  <tbody>\n",
              "    <tr>\n",
              "      <th>0</th>\n",
              "      <td>Bottom-Dollar Markets</td>\n",
              "      <td>North America</td>\n",
              "      <td>22607.70</td>\n",
              "    </tr>\n",
              "    <tr>\n",
              "      <th>1</th>\n",
              "      <td>Great Lakes Food Market</td>\n",
              "      <td>North America</td>\n",
              "      <td>19711.13</td>\n",
              "    </tr>\n",
              "    <tr>\n",
              "      <th>2</th>\n",
              "      <td>Let's Stop N Shop</td>\n",
              "      <td>North America</td>\n",
              "      <td>3490.02</td>\n",
              "    </tr>\n",
              "    <tr>\n",
              "      <th>3</th>\n",
              "      <td>Lonesome Pine Restaurant</td>\n",
              "      <td>North America</td>\n",
              "      <td>4258.60</td>\n",
              "    </tr>\n",
              "    <tr>\n",
              "      <th>4</th>\n",
              "      <td>Mère Paillarde</td>\n",
              "      <td>North America</td>\n",
              "      <td>32203.90</td>\n",
              "    </tr>\n",
              "    <tr>\n",
              "      <th>5</th>\n",
              "      <td>Old World Delicatessen</td>\n",
              "      <td>North America</td>\n",
              "      <td>16325.15</td>\n",
              "    </tr>\n",
              "    <tr>\n",
              "      <th>6</th>\n",
              "      <td>Rattlesnake Canyon Grocery</td>\n",
              "      <td>North America</td>\n",
              "      <td>52245.90</td>\n",
              "    </tr>\n",
              "    <tr>\n",
              "      <th>7</th>\n",
              "      <td>Save-a-lot Markets</td>\n",
              "      <td>North America</td>\n",
              "      <td>115673.39</td>\n",
              "    </tr>\n",
              "    <tr>\n",
              "      <th>8</th>\n",
              "      <td>Split Rail Beer &amp; Ale</td>\n",
              "      <td>North America</td>\n",
              "      <td>12489.70</td>\n",
              "    </tr>\n",
              "    <tr>\n",
              "      <th>9</th>\n",
              "      <td>White Clover Markets</td>\n",
              "      <td>North America</td>\n",
              "      <td>29073.45</td>\n",
              "    </tr>\n",
              "  </tbody>\n",
              "</table>\n",
              "</div>"
            ],
            "text/plain": [
              "                  CompanyName         Region      Total\n",
              "0       Bottom-Dollar Markets  North America   22607.70\n",
              "1     Great Lakes Food Market  North America   19711.13\n",
              "2           Let's Stop N Shop  North America    3490.02\n",
              "3    Lonesome Pine Restaurant  North America    4258.60\n",
              "4              Mère Paillarde  North America   32203.90\n",
              "5      Old World Delicatessen  North America   16325.15\n",
              "6  Rattlesnake Canyon Grocery  North America   52245.90\n",
              "7          Save-a-lot Markets  North America  115673.39\n",
              "8       Split Rail Beer & Ale  North America   12489.70\n",
              "9        White Clover Markets  North America   29073.45"
            ]
          },
          "metadata": {
            "tags": []
          },
          "execution_count": 7
        }
      ]
    },
    {
      "cell_type": "markdown",
      "metadata": {
        "id": "_wNvhrMskRS_",
        "colab_type": "text"
      },
      "source": [
        "### 4. Query the number of products in each Popularity group\n",
        "__Rules:__\n",
        "- Products with more than 400 items are \"Regular\" products\n",
        "- Products with more than 800 items sold are \"Popular\" products\n",
        "- Product with less than 400 items sold are \"Unpopular\" products\n",
        "\n",
        "__Expected Output__\n",
        "\n",
        "![](https://i.imgur.com/OhmmmAt.png)"
      ]
    },
    {
      "cell_type": "code",
      "metadata": {
        "id": "SyFDL8te2IJo",
        "colab_type": "code",
        "outputId": "c3dfdba4-a24f-46f7-a115-990eb0191b36",
        "colab": {
          "base_uri": "https://localhost:8080/",
          "height": 141
        }
      },
      "source": [
        "# Query the number of products in each Popularity group\n",
        "\n",
        "query = '''\n",
        "          SELECT \n",
        "            Popularity, \n",
        "            COUNT(Popularity) AS \"Count\"\n",
        "          FROM (\n",
        "            SELECT (\n",
        "              CASE\n",
        "                WHEN Quantity > 800 \n",
        "                  THEN \"Popular\"\n",
        "                WHEN Quantity > 400 \n",
        "                  THEN \"Regular\"\n",
        "                ELSE \"Unpopular\"\n",
        "              END) AS Popularity\n",
        "            FROM (\n",
        "              SELECT \n",
        "                p.ProductName, \n",
        "                SUM(d.Quantity) AS Quantity\n",
        "              FROM OrderDetail AS d\n",
        "              JOIN Product AS p\n",
        "                ON d.ProductId = p.Id\n",
        "              GROUP BY p.ProductName\n",
        "              )\n",
        "            )\n",
        "            GROUP BY Popularity\n",
        "\n",
        "'''\n",
        "\n",
        "pd.read_sql_query(query, conn)"
      ],
      "execution_count": 0,
      "outputs": [
        {
          "output_type": "execute_result",
          "data": {
            "text/html": [
              "<div>\n",
              "<style scoped>\n",
              "    .dataframe tbody tr th:only-of-type {\n",
              "        vertical-align: middle;\n",
              "    }\n",
              "\n",
              "    .dataframe tbody tr th {\n",
              "        vertical-align: top;\n",
              "    }\n",
              "\n",
              "    .dataframe thead th {\n",
              "        text-align: right;\n",
              "    }\n",
              "</style>\n",
              "<table border=\"1\" class=\"dataframe\">\n",
              "  <thead>\n",
              "    <tr style=\"text-align: right;\">\n",
              "      <th></th>\n",
              "      <th>Popularity</th>\n",
              "      <th>Count</th>\n",
              "    </tr>\n",
              "  </thead>\n",
              "  <tbody>\n",
              "    <tr>\n",
              "      <th>0</th>\n",
              "      <td>Popular</td>\n",
              "      <td>23</td>\n",
              "    </tr>\n",
              "    <tr>\n",
              "      <th>1</th>\n",
              "      <td>Regular</td>\n",
              "      <td>35</td>\n",
              "    </tr>\n",
              "    <tr>\n",
              "      <th>2</th>\n",
              "      <td>Unpopular</td>\n",
              "      <td>19</td>\n",
              "    </tr>\n",
              "  </tbody>\n",
              "</table>\n",
              "</div>"
            ],
            "text/plain": [
              "  Popularity  Count\n",
              "0    Popular     23\n",
              "1    Regular     35\n",
              "2  Unpopular     19"
            ]
          },
          "metadata": {
            "tags": []
          },
          "execution_count": 53
        }
      ]
    },
    {
      "cell_type": "markdown",
      "metadata": {
        "id": "UqzJgy3PD4AD",
        "colab_type": "text"
      },
      "source": [
        "### 5. Query the contact list of Customer and Supplier by City"
      ]
    },
    {
      "cell_type": "code",
      "metadata": {
        "id": "y2ulKeTkDFp3",
        "colab_type": "code",
        "outputId": "ca937b05-7ff3-4264-a9ec-c9747df51e3e",
        "colab": {
          "base_uri": "https://localhost:8080/",
          "height": 415
        }
      },
      "source": [
        "# Query the contact list of Customers and Suppliers by City\n",
        "# Sort the City column alphabetically\n",
        "\n",
        "query = '''\n",
        "         SELECT \n",
        "          City, \n",
        "          CompanyName, \n",
        "          ContactName, \n",
        "          'Customer' as Relationship \n",
        "         FROM Customer\n",
        "         UNION\n",
        "         SELECT \n",
        "          City, \n",
        "          CompanyName, \n",
        "          ContactName, \n",
        "          'Supplier'\n",
        "         FROM Supplier\n",
        "         ORDER BY City, CompanyName;\n",
        "\n",
        "'''\n",
        "\n",
        "pd.read_sql_query(query, conn)\n"
      ],
      "execution_count": 0,
      "outputs": [
        {
          "output_type": "execute_result",
          "data": {
            "text/html": [
              "<div>\n",
              "<style scoped>\n",
              "    .dataframe tbody tr th:only-of-type {\n",
              "        vertical-align: middle;\n",
              "    }\n",
              "\n",
              "    .dataframe tbody tr th {\n",
              "        vertical-align: top;\n",
              "    }\n",
              "\n",
              "    .dataframe thead th {\n",
              "        text-align: right;\n",
              "    }\n",
              "</style>\n",
              "<table border=\"1\" class=\"dataframe\">\n",
              "  <thead>\n",
              "    <tr style=\"text-align: right;\">\n",
              "      <th></th>\n",
              "      <th>City</th>\n",
              "      <th>CompanyName</th>\n",
              "      <th>ContactName</th>\n",
              "      <th>Relationship</th>\n",
              "    </tr>\n",
              "  </thead>\n",
              "  <tbody>\n",
              "    <tr>\n",
              "      <th>0</th>\n",
              "      <td>Aachen</td>\n",
              "      <td>Drachenblut Delikatessen</td>\n",
              "      <td>Sven Ottlieb</td>\n",
              "      <td>Customers</td>\n",
              "    </tr>\n",
              "    <tr>\n",
              "      <th>1</th>\n",
              "      <td>Albuquerque</td>\n",
              "      <td>Rattlesnake Canyon Grocery</td>\n",
              "      <td>Paula Wilson</td>\n",
              "      <td>Customers</td>\n",
              "    </tr>\n",
              "    <tr>\n",
              "      <th>2</th>\n",
              "      <td>Anchorage</td>\n",
              "      <td>Old World Delicatessen</td>\n",
              "      <td>Rene Phillips</td>\n",
              "      <td>Customers</td>\n",
              "    </tr>\n",
              "    <tr>\n",
              "      <th>3</th>\n",
              "      <td>Ann Arbor</td>\n",
              "      <td>Grandma Kelly's Homestead</td>\n",
              "      <td>Regina Murphy</td>\n",
              "      <td>Suppliers</td>\n",
              "    </tr>\n",
              "    <tr>\n",
              "      <th>4</th>\n",
              "      <td>Annecy</td>\n",
              "      <td>Gai pâturage</td>\n",
              "      <td>Eliane Noz</td>\n",
              "      <td>Suppliers</td>\n",
              "    </tr>\n",
              "    <tr>\n",
              "      <th>...</th>\n",
              "      <td>...</td>\n",
              "      <td>...</td>\n",
              "      <td>...</td>\n",
              "      <td>...</td>\n",
              "    </tr>\n",
              "    <tr>\n",
              "      <th>115</th>\n",
              "      <td>Versailles</td>\n",
              "      <td>La corne d'abondance</td>\n",
              "      <td>Daniel Tonini</td>\n",
              "      <td>Customers</td>\n",
              "    </tr>\n",
              "    <tr>\n",
              "      <th>116</th>\n",
              "      <td>Walla Walla</td>\n",
              "      <td>Lazy K Kountry Store</td>\n",
              "      <td>John Steel</td>\n",
              "      <td>Customers</td>\n",
              "    </tr>\n",
              "    <tr>\n",
              "      <th>117</th>\n",
              "      <td>Warszawa</td>\n",
              "      <td>Wolski  Zajazd</td>\n",
              "      <td>Zbyszek Piestrzeniewicz</td>\n",
              "      <td>Customers</td>\n",
              "    </tr>\n",
              "    <tr>\n",
              "      <th>118</th>\n",
              "      <td>Zaandam</td>\n",
              "      <td>Zaanse Snoepfabriek</td>\n",
              "      <td>Dirk Luchte</td>\n",
              "      <td>Suppliers</td>\n",
              "    </tr>\n",
              "    <tr>\n",
              "      <th>119</th>\n",
              "      <td>Århus</td>\n",
              "      <td>Vaffeljernet</td>\n",
              "      <td>Palle Ibsen</td>\n",
              "      <td>Customers</td>\n",
              "    </tr>\n",
              "  </tbody>\n",
              "</table>\n",
              "<p>120 rows × 4 columns</p>\n",
              "</div>"
            ],
            "text/plain": [
              "            City  ... Relationship\n",
              "0         Aachen  ...    Customers\n",
              "1    Albuquerque  ...    Customers\n",
              "2      Anchorage  ...    Customers\n",
              "3      Ann Arbor  ...    Suppliers\n",
              "4         Annecy  ...    Suppliers\n",
              "..           ...  ...          ...\n",
              "115   Versailles  ...    Customers\n",
              "116  Walla Walla  ...    Customers\n",
              "117     Warszawa  ...    Customers\n",
              "118      Zaandam  ...    Suppliers\n",
              "119        Århus  ...    Customers\n",
              "\n",
              "[120 rows x 4 columns]"
            ]
          },
          "metadata": {
            "tags": []
          },
          "execution_count": 70
        }
      ]
    },
    {
      "cell_type": "code",
      "metadata": {
        "id": "GWtNr4dOCRFB",
        "colab_type": "code",
        "outputId": "06075282-731b-4092-c8cd-30fd470aff9c",
        "colab": {
          "base_uri": "https://localhost:8080/",
          "height": 649
        }
      },
      "source": [
        "\n",
        "\n",
        "  # Query the contact list of Customers and Suppliers by City\n",
        "# Sort the City column alphabetically\n",
        "\n",
        "query = '''\n",
        "       SELECT * \n",
        "        FROM \n",
        "        (SELECT CompanyName,Region,Amount as Total\n",
        "        FROM Customer AS c\n",
        "          JOIN order_revenue  AS odr\n",
        "          ON odr.customerId = c.id\n",
        "        GROUP BY c.id\n",
        "        HAVING c.Region Like 'North America'\n",
        "        ORDER BY Total DESC)\n",
        "\n",
        "'''\n",
        "\n",
        "pd.read_sql_query(query, conn)\n"
      ],
      "execution_count": 0,
      "outputs": [
        {
          "output_type": "error",
          "ename": "DatabaseError",
          "evalue": "ignored",
          "traceback": [
            "\u001b[0;31m---------------------------------------------------------------------------\u001b[0m",
            "\u001b[0;31mOperationalError\u001b[0m                          Traceback (most recent call last)",
            "\u001b[0;32m/usr/local/lib/python3.6/dist-packages/pandas/io/sql.py\u001b[0m in \u001b[0;36mexecute\u001b[0;34m(self, *args, **kwargs)\u001b[0m\n\u001b[1;32m   1594\u001b[0m             \u001b[0;32melse\u001b[0m\u001b[0;34m:\u001b[0m\u001b[0;34m\u001b[0m\u001b[0;34m\u001b[0m\u001b[0m\n\u001b[0;32m-> 1595\u001b[0;31m                 \u001b[0mcur\u001b[0m\u001b[0;34m.\u001b[0m\u001b[0mexecute\u001b[0m\u001b[0;34m(\u001b[0m\u001b[0;34m*\u001b[0m\u001b[0margs\u001b[0m\u001b[0;34m)\u001b[0m\u001b[0;34m\u001b[0m\u001b[0;34m\u001b[0m\u001b[0m\n\u001b[0m\u001b[1;32m   1596\u001b[0m             \u001b[0;32mreturn\u001b[0m \u001b[0mcur\u001b[0m\u001b[0;34m\u001b[0m\u001b[0;34m\u001b[0m\u001b[0m\n",
            "\u001b[0;31mOperationalError\u001b[0m: no such table: order_revenue",
            "\nDuring handling of the above exception, another exception occurred:\n",
            "\u001b[0;31mDatabaseError\u001b[0m                             Traceback (most recent call last)",
            "\u001b[0;32m<ipython-input-10-ac3544432434>\u001b[0m in \u001b[0;36m<module>\u001b[0;34m()\u001b[0m\n\u001b[1;32m     13\u001b[0m '''\n\u001b[1;32m     14\u001b[0m \u001b[0;34m\u001b[0m\u001b[0m\n\u001b[0;32m---> 15\u001b[0;31m \u001b[0mpd\u001b[0m\u001b[0;34m.\u001b[0m\u001b[0mread_sql_query\u001b[0m\u001b[0;34m(\u001b[0m\u001b[0mquery\u001b[0m\u001b[0;34m,\u001b[0m \u001b[0mconn\u001b[0m\u001b[0;34m)\u001b[0m\u001b[0;34m\u001b[0m\u001b[0;34m\u001b[0m\u001b[0m\n\u001b[0m",
            "\u001b[0;32m/usr/local/lib/python3.6/dist-packages/pandas/io/sql.py\u001b[0m in \u001b[0;36mread_sql_query\u001b[0;34m(sql, con, index_col, coerce_float, params, parse_dates, chunksize)\u001b[0m\n\u001b[1;32m    330\u001b[0m         \u001b[0mcoerce_float\u001b[0m\u001b[0;34m=\u001b[0m\u001b[0mcoerce_float\u001b[0m\u001b[0;34m,\u001b[0m\u001b[0;34m\u001b[0m\u001b[0;34m\u001b[0m\u001b[0m\n\u001b[1;32m    331\u001b[0m         \u001b[0mparse_dates\u001b[0m\u001b[0;34m=\u001b[0m\u001b[0mparse_dates\u001b[0m\u001b[0;34m,\u001b[0m\u001b[0;34m\u001b[0m\u001b[0;34m\u001b[0m\u001b[0m\n\u001b[0;32m--> 332\u001b[0;31m         \u001b[0mchunksize\u001b[0m\u001b[0;34m=\u001b[0m\u001b[0mchunksize\u001b[0m\u001b[0;34m,\u001b[0m\u001b[0;34m\u001b[0m\u001b[0;34m\u001b[0m\u001b[0m\n\u001b[0m\u001b[1;32m    333\u001b[0m     )\n\u001b[1;32m    334\u001b[0m \u001b[0;34m\u001b[0m\u001b[0m\n",
            "\u001b[0;32m/usr/local/lib/python3.6/dist-packages/pandas/io/sql.py\u001b[0m in \u001b[0;36mread_query\u001b[0;34m(self, sql, index_col, coerce_float, params, parse_dates, chunksize)\u001b[0m\n\u001b[1;32m   1643\u001b[0m \u001b[0;34m\u001b[0m\u001b[0m\n\u001b[1;32m   1644\u001b[0m         \u001b[0margs\u001b[0m \u001b[0;34m=\u001b[0m \u001b[0m_convert_params\u001b[0m\u001b[0;34m(\u001b[0m\u001b[0msql\u001b[0m\u001b[0;34m,\u001b[0m \u001b[0mparams\u001b[0m\u001b[0;34m)\u001b[0m\u001b[0;34m\u001b[0m\u001b[0;34m\u001b[0m\u001b[0m\n\u001b[0;32m-> 1645\u001b[0;31m         \u001b[0mcursor\u001b[0m \u001b[0;34m=\u001b[0m \u001b[0mself\u001b[0m\u001b[0;34m.\u001b[0m\u001b[0mexecute\u001b[0m\u001b[0;34m(\u001b[0m\u001b[0;34m*\u001b[0m\u001b[0margs\u001b[0m\u001b[0;34m)\u001b[0m\u001b[0;34m\u001b[0m\u001b[0;34m\u001b[0m\u001b[0m\n\u001b[0m\u001b[1;32m   1646\u001b[0m         \u001b[0mcolumns\u001b[0m \u001b[0;34m=\u001b[0m \u001b[0;34m[\u001b[0m\u001b[0mcol_desc\u001b[0m\u001b[0;34m[\u001b[0m\u001b[0;36m0\u001b[0m\u001b[0;34m]\u001b[0m \u001b[0;32mfor\u001b[0m \u001b[0mcol_desc\u001b[0m \u001b[0;32min\u001b[0m \u001b[0mcursor\u001b[0m\u001b[0;34m.\u001b[0m\u001b[0mdescription\u001b[0m\u001b[0;34m]\u001b[0m\u001b[0;34m\u001b[0m\u001b[0;34m\u001b[0m\u001b[0m\n\u001b[1;32m   1647\u001b[0m \u001b[0;34m\u001b[0m\u001b[0m\n",
            "\u001b[0;32m/usr/local/lib/python3.6/dist-packages/pandas/io/sql.py\u001b[0m in \u001b[0;36mexecute\u001b[0;34m(self, *args, **kwargs)\u001b[0m\n\u001b[1;32m   1608\u001b[0m                 \u001b[0;34m\"Execution failed on sql '{sql}': {exc}\"\u001b[0m\u001b[0;34m.\u001b[0m\u001b[0mformat\u001b[0m\u001b[0;34m(\u001b[0m\u001b[0msql\u001b[0m\u001b[0;34m=\u001b[0m\u001b[0margs\u001b[0m\u001b[0;34m[\u001b[0m\u001b[0;36m0\u001b[0m\u001b[0;34m]\u001b[0m\u001b[0;34m,\u001b[0m \u001b[0mexc\u001b[0m\u001b[0;34m=\u001b[0m\u001b[0mexc\u001b[0m\u001b[0;34m)\u001b[0m\u001b[0;34m\u001b[0m\u001b[0;34m\u001b[0m\u001b[0m\n\u001b[1;32m   1609\u001b[0m             )\n\u001b[0;32m-> 1610\u001b[0;31m             \u001b[0mraise_with_traceback\u001b[0m\u001b[0;34m(\u001b[0m\u001b[0mex\u001b[0m\u001b[0;34m)\u001b[0m\u001b[0;34m\u001b[0m\u001b[0;34m\u001b[0m\u001b[0m\n\u001b[0m\u001b[1;32m   1611\u001b[0m \u001b[0;34m\u001b[0m\u001b[0m\n\u001b[1;32m   1612\u001b[0m     \u001b[0;34m@\u001b[0m\u001b[0mstaticmethod\u001b[0m\u001b[0;34m\u001b[0m\u001b[0;34m\u001b[0m\u001b[0m\n",
            "\u001b[0;32m/usr/local/lib/python3.6/dist-packages/pandas/compat/__init__.py\u001b[0m in \u001b[0;36mraise_with_traceback\u001b[0;34m(exc, traceback)\u001b[0m\n\u001b[1;32m     45\u001b[0m     \u001b[0;32mif\u001b[0m \u001b[0mtraceback\u001b[0m \u001b[0;34m==\u001b[0m \u001b[0mEllipsis\u001b[0m\u001b[0;34m:\u001b[0m\u001b[0;34m\u001b[0m\u001b[0;34m\u001b[0m\u001b[0m\n\u001b[1;32m     46\u001b[0m         \u001b[0m_\u001b[0m\u001b[0;34m,\u001b[0m \u001b[0m_\u001b[0m\u001b[0;34m,\u001b[0m \u001b[0mtraceback\u001b[0m \u001b[0;34m=\u001b[0m \u001b[0msys\u001b[0m\u001b[0;34m.\u001b[0m\u001b[0mexc_info\u001b[0m\u001b[0;34m(\u001b[0m\u001b[0;34m)\u001b[0m\u001b[0;34m\u001b[0m\u001b[0;34m\u001b[0m\u001b[0m\n\u001b[0;32m---> 47\u001b[0;31m     \u001b[0;32mraise\u001b[0m \u001b[0mexc\u001b[0m\u001b[0;34m.\u001b[0m\u001b[0mwith_traceback\u001b[0m\u001b[0;34m(\u001b[0m\u001b[0mtraceback\u001b[0m\u001b[0;34m)\u001b[0m\u001b[0;34m\u001b[0m\u001b[0;34m\u001b[0m\u001b[0m\n\u001b[0m\u001b[1;32m     48\u001b[0m \u001b[0;34m\u001b[0m\u001b[0m\n\u001b[1;32m     49\u001b[0m \u001b[0;34m\u001b[0m\u001b[0m\n",
            "\u001b[0;32m/usr/local/lib/python3.6/dist-packages/pandas/io/sql.py\u001b[0m in \u001b[0;36mexecute\u001b[0;34m(self, *args, **kwargs)\u001b[0m\n\u001b[1;32m   1593\u001b[0m                 \u001b[0mcur\u001b[0m\u001b[0;34m.\u001b[0m\u001b[0mexecute\u001b[0m\u001b[0;34m(\u001b[0m\u001b[0;34m*\u001b[0m\u001b[0margs\u001b[0m\u001b[0;34m,\u001b[0m \u001b[0;34m**\u001b[0m\u001b[0mkwargs\u001b[0m\u001b[0;34m)\u001b[0m\u001b[0;34m\u001b[0m\u001b[0;34m\u001b[0m\u001b[0m\n\u001b[1;32m   1594\u001b[0m             \u001b[0;32melse\u001b[0m\u001b[0;34m:\u001b[0m\u001b[0;34m\u001b[0m\u001b[0;34m\u001b[0m\u001b[0m\n\u001b[0;32m-> 1595\u001b[0;31m                 \u001b[0mcur\u001b[0m\u001b[0;34m.\u001b[0m\u001b[0mexecute\u001b[0m\u001b[0;34m(\u001b[0m\u001b[0;34m*\u001b[0m\u001b[0margs\u001b[0m\u001b[0;34m)\u001b[0m\u001b[0;34m\u001b[0m\u001b[0;34m\u001b[0m\u001b[0m\n\u001b[0m\u001b[1;32m   1596\u001b[0m             \u001b[0;32mreturn\u001b[0m \u001b[0mcur\u001b[0m\u001b[0;34m\u001b[0m\u001b[0;34m\u001b[0m\u001b[0m\n\u001b[1;32m   1597\u001b[0m         \u001b[0;32mexcept\u001b[0m \u001b[0mException\u001b[0m \u001b[0;32mas\u001b[0m \u001b[0mexc\u001b[0m\u001b[0;34m:\u001b[0m\u001b[0;34m\u001b[0m\u001b[0;34m\u001b[0m\u001b[0m\n",
            "\u001b[0;31mDatabaseError\u001b[0m: Execution failed on sql '\n       SELECT * \n        FROM \n        (SELECT CompanyName,Region,Amount as Total\n        FROM Customer AS c\n          JOIN order_revenue  AS odr\n          ON odr.customerId = c.id\n        GROUP BY c.id\n        HAVING c.Region Like 'North America'\n        ORDER BY Total DESC)\n\n': no such table: order_revenue"
          ]
        }
      ]
    },
    {
      "cell_type": "code",
      "metadata": {
        "id": "znhJcDOsCTh-",
        "colab_type": "code",
        "colab": {}
      },
      "source": [
        ""
      ],
      "execution_count": 0,
      "outputs": []
    }
  ]
}